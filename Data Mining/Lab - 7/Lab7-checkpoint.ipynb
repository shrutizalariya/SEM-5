{
 "cells": [
  {
   "cell_type": "markdown",
   "id": "02b33ee5",
   "metadata": {},
   "source": [
    "<a href='https://www.darshan.ac.in/'> <img src='https://www.darshan.ac.in/Content/media/DU_Logo.svg' width=\"250\" height=\"300\"/></a>\n",
    "<pre>\n",
    "<center><b><h1>Data Mining</b></center>\n",
    "<center><b><h1>Lab - 7 (Part 2)</b></center>    \n",
    "<pre>"
   ]
  },
  {
   "cell_type": "markdown",
   "id": "08f0806f",
   "metadata": {},
   "source": [
    "### Step 1: Load the Dataset\n",
    "Load the `Tdata.csv` file and display the first few rows."
   ]
  },
  {
   "cell_type": "code",
   "execution_count": 41,
   "id": "4be93a7f-bbd0-4f39-9451-683881a0f6d9",
   "metadata": {},
   "outputs": [
    {
     "data": {
      "text/html": [
       "<div>\n",
       "<style scoped>\n",
       "    .dataframe tbody tr th:only-of-type {\n",
       "        vertical-align: middle;\n",
       "    }\n",
       "\n",
       "    .dataframe tbody tr th {\n",
       "        vertical-align: top;\n",
       "    }\n",
       "\n",
       "    .dataframe thead th {\n",
       "        text-align: right;\n",
       "    }\n",
       "</style>\n",
       "<table border=\"1\" class=\"dataframe\">\n",
       "  <thead>\n",
       "    <tr style=\"text-align: right;\">\n",
       "      <th></th>\n",
       "      <th>Transaction</th>\n",
       "      <th>bread</th>\n",
       "      <th>butter</th>\n",
       "      <th>coffee</th>\n",
       "      <th>eggs</th>\n",
       "      <th>jam</th>\n",
       "      <th>milk</th>\n",
       "    </tr>\n",
       "  </thead>\n",
       "  <tbody>\n",
       "    <tr>\n",
       "      <th>0</th>\n",
       "      <td>T1</td>\n",
       "      <td>1</td>\n",
       "      <td>1</td>\n",
       "      <td>0</td>\n",
       "      <td>0</td>\n",
       "      <td>0</td>\n",
       "      <td>1</td>\n",
       "    </tr>\n",
       "    <tr>\n",
       "      <th>1</th>\n",
       "      <td>T2</td>\n",
       "      <td>1</td>\n",
       "      <td>1</td>\n",
       "      <td>0</td>\n",
       "      <td>0</td>\n",
       "      <td>1</td>\n",
       "      <td>0</td>\n",
       "    </tr>\n",
       "    <tr>\n",
       "      <th>2</th>\n",
       "      <td>T3</td>\n",
       "      <td>1</td>\n",
       "      <td>0</td>\n",
       "      <td>0</td>\n",
       "      <td>1</td>\n",
       "      <td>0</td>\n",
       "      <td>1</td>\n",
       "    </tr>\n",
       "    <tr>\n",
       "      <th>3</th>\n",
       "      <td>T4</td>\n",
       "      <td>1</td>\n",
       "      <td>1</td>\n",
       "      <td>0</td>\n",
       "      <td>0</td>\n",
       "      <td>0</td>\n",
       "      <td>1</td>\n",
       "    </tr>\n",
       "    <tr>\n",
       "      <th>4</th>\n",
       "      <td>T5</td>\n",
       "      <td>1</td>\n",
       "      <td>0</td>\n",
       "      <td>1</td>\n",
       "      <td>0</td>\n",
       "      <td>0</td>\n",
       "      <td>0</td>\n",
       "    </tr>\n",
       "  </tbody>\n",
       "</table>\n",
       "</div>"
      ],
      "text/plain": [
       "  Transaction  bread  butter  coffee  eggs  jam  milk\n",
       "0          T1      1       1       0     0    0     1\n",
       "1          T2      1       1       0     0    1     0\n",
       "2          T3      1       0       0     1    0     1\n",
       "3          T4      1       1       0     0    0     1\n",
       "4          T5      1       0       1     0    0     0"
      ]
     },
     "execution_count": 41,
     "metadata": {},
     "output_type": "execute_result"
    }
   ],
   "source": [
    "import pandas as pd\n",
    "df = pd.read_csv('Tdata.csv')\n",
    "df.head()"
   ]
  },
  {
   "cell_type": "markdown",
   "id": "3532ee71",
   "metadata": {},
   "source": [
    "### Step 2: Drop the 'Transaction' Column\n",
    "We're only interested in the items (not the transaction IDs)."
   ]
  },
  {
   "cell_type": "code",
   "execution_count": 49,
   "id": "c3ee4e1c-5cef-45a3-ae47-be3184e7d662",
   "metadata": {},
   "outputs": [
    {
     "data": {
      "text/html": [
       "<div>\n",
       "<style scoped>\n",
       "    .dataframe tbody tr th:only-of-type {\n",
       "        vertical-align: middle;\n",
       "    }\n",
       "\n",
       "    .dataframe tbody tr th {\n",
       "        vertical-align: top;\n",
       "    }\n",
       "\n",
       "    .dataframe thead th {\n",
       "        text-align: right;\n",
       "    }\n",
       "</style>\n",
       "<table border=\"1\" class=\"dataframe\">\n",
       "  <thead>\n",
       "    <tr style=\"text-align: right;\">\n",
       "      <th></th>\n",
       "      <th>bread</th>\n",
       "      <th>butter</th>\n",
       "      <th>coffee</th>\n",
       "      <th>eggs</th>\n",
       "      <th>jam</th>\n",
       "      <th>milk</th>\n",
       "    </tr>\n",
       "  </thead>\n",
       "  <tbody>\n",
       "    <tr>\n",
       "      <th>0</th>\n",
       "      <td>1</td>\n",
       "      <td>1</td>\n",
       "      <td>0</td>\n",
       "      <td>0</td>\n",
       "      <td>0</td>\n",
       "      <td>1</td>\n",
       "    </tr>\n",
       "    <tr>\n",
       "      <th>1</th>\n",
       "      <td>1</td>\n",
       "      <td>1</td>\n",
       "      <td>0</td>\n",
       "      <td>0</td>\n",
       "      <td>1</td>\n",
       "      <td>0</td>\n",
       "    </tr>\n",
       "    <tr>\n",
       "      <th>2</th>\n",
       "      <td>1</td>\n",
       "      <td>0</td>\n",
       "      <td>0</td>\n",
       "      <td>1</td>\n",
       "      <td>0</td>\n",
       "      <td>1</td>\n",
       "    </tr>\n",
       "    <tr>\n",
       "      <th>3</th>\n",
       "      <td>1</td>\n",
       "      <td>1</td>\n",
       "      <td>0</td>\n",
       "      <td>0</td>\n",
       "      <td>0</td>\n",
       "      <td>1</td>\n",
       "    </tr>\n",
       "    <tr>\n",
       "      <th>4</th>\n",
       "      <td>1</td>\n",
       "      <td>0</td>\n",
       "      <td>1</td>\n",
       "      <td>0</td>\n",
       "      <td>0</td>\n",
       "      <td>0</td>\n",
       "    </tr>\n",
       "    <tr>\n",
       "      <th>5</th>\n",
       "      <td>0</td>\n",
       "      <td>0</td>\n",
       "      <td>1</td>\n",
       "      <td>1</td>\n",
       "      <td>1</td>\n",
       "      <td>0</td>\n",
       "    </tr>\n",
       "  </tbody>\n",
       "</table>\n",
       "</div>"
      ],
      "text/plain": [
       "   bread  butter  coffee  eggs  jam  milk\n",
       "0      1       1       0     0    0     1\n",
       "1      1       1       0     0    1     0\n",
       "2      1       0       0     1    0     1\n",
       "3      1       1       0     0    0     1\n",
       "4      1       0       1     0    0     0\n",
       "5      0       0       1     1    1     0"
      ]
     },
     "execution_count": 49,
     "metadata": {},
     "output_type": "execute_result"
    }
   ],
   "source": [
    "data = df.copy()\n",
    "data_items = data.drop('Transaction',axis=1) #data.drop(column = ['Transaction'])\n",
    "data_items"
   ]
  },
  {
   "cell_type": "markdown",
   "id": "f1f8e5fa",
   "metadata": {},
   "source": [
    "### Step 3: Count Single Items\n",
    "See how many transactions include each item."
   ]
  },
  {
   "cell_type": "code",
   "execution_count": 51,
   "id": "8770cf10",
   "metadata": {},
   "outputs": [
    {
     "data": {
      "text/plain": [
       "bread     5\n",
       "butter    3\n",
       "coffee    2\n",
       "eggs      2\n",
       "jam       2\n",
       "milk      3\n",
       "dtype: int64"
      ]
     },
     "execution_count": 51,
     "metadata": {},
     "output_type": "execute_result"
    }
   ],
   "source": [
    "data_items.sum()"
   ]
  },
  {
   "cell_type": "markdown",
   "id": "06a4f0e5",
   "metadata": {},
   "source": [
    "### Step 4: Define Apriori Function\n",
    "This function finds frequent itemsets of size 1, 2, and 3 with minimum support."
   ]
  },
  {
   "cell_type": "code",
   "execution_count": 80,
   "id": "d11baaab",
   "metadata": {},
   "outputs": [],
   "source": [
    "from itertools import combinations\n",
    "\n",
    "def find_frequent_itemsets(data,min_support):\n",
    "    n = len(data)\n",
    "    result = []\n",
    "\n",
    "    for k in [1,2,3]:\n",
    "        for items in combinations(data.columns,k):\n",
    "            mask = data[list(items)].all(axis=1)\n",
    "            print(\"items\",items,\"mask\",mask.sum())\n",
    "            support = mask.sum() / n\n",
    "            if support >= min_support:\n",
    "                result.append((frozenset(items),round(support,2)))\n",
    "    return result "
   ]
  },
  {
   "cell_type": "markdown",
   "id": "ec43a005",
   "metadata": {},
   "source": [
    "### Step 5: Run Apriori\n",
    "Set `min_support = 0.6` and display the frequent itemsets."
   ]
  },
  {
   "cell_type": "code",
   "execution_count": 94,
   "id": "c6e33702",
   "metadata": {},
   "outputs": [
    {
     "name": "stdout",
     "output_type": "stream",
     "text": [
      "items ('bread',) mask 5\n",
      "items ('butter',) mask 3\n",
      "items ('coffee',) mask 2\n",
      "items ('eggs',) mask 2\n",
      "items ('jam',) mask 2\n",
      "items ('milk',) mask 3\n",
      "items ('bread', 'butter') mask 3\n",
      "items ('bread', 'coffee') mask 1\n",
      "items ('bread', 'eggs') mask 1\n",
      "items ('bread', 'jam') mask 1\n",
      "items ('bread', 'milk') mask 3\n",
      "items ('butter', 'coffee') mask 0\n",
      "items ('butter', 'eggs') mask 0\n",
      "items ('butter', 'jam') mask 1\n",
      "items ('butter', 'milk') mask 2\n",
      "items ('coffee', 'eggs') mask 1\n",
      "items ('coffee', 'jam') mask 1\n",
      "items ('coffee', 'milk') mask 0\n",
      "items ('eggs', 'jam') mask 1\n",
      "items ('eggs', 'milk') mask 1\n",
      "items ('jam', 'milk') mask 0\n",
      "items ('bread', 'butter', 'coffee') mask 0\n",
      "items ('bread', 'butter', 'eggs') mask 0\n",
      "items ('bread', 'butter', 'jam') mask 1\n",
      "items ('bread', 'butter', 'milk') mask 2\n",
      "items ('bread', 'coffee', 'eggs') mask 0\n",
      "items ('bread', 'coffee', 'jam') mask 0\n",
      "items ('bread', 'coffee', 'milk') mask 0\n",
      "items ('bread', 'eggs', 'jam') mask 0\n",
      "items ('bread', 'eggs', 'milk') mask 1\n",
      "items ('bread', 'jam', 'milk') mask 0\n",
      "items ('butter', 'coffee', 'eggs') mask 0\n",
      "items ('butter', 'coffee', 'jam') mask 0\n",
      "items ('butter', 'coffee', 'milk') mask 0\n",
      "items ('butter', 'eggs', 'jam') mask 0\n",
      "items ('butter', 'eggs', 'milk') mask 0\n",
      "items ('butter', 'jam', 'milk') mask 0\n",
      "items ('coffee', 'eggs', 'jam') mask 1\n",
      "items ('coffee', 'eggs', 'milk') mask 0\n",
      "items ('coffee', 'jam', 'milk') mask 0\n",
      "items ('eggs', 'jam', 'milk') mask 0\n",
      "{'bread'} support: 0.83\n"
     ]
    }
   ],
   "source": [
    "frequent_itemsets = find_frequent_itemsets(data_items,min_support = 0.6)\n",
    "\n",
    "for itemset, support in frequent_itemsets:\n",
    "    print(f\"{set(itemset)} support: {support}\")"
   ]
  },
  {
   "cell_type": "markdown",
   "id": "0026f6da",
   "metadata": {},
   "source": [
    "### Step 6 Display as a DataFrame"
   ]
  },
  {
   "cell_type": "code",
   "execution_count": 96,
   "id": "2c772d61",
   "metadata": {},
   "outputs": [
    {
     "data": {
      "text/html": [
       "<div>\n",
       "<style scoped>\n",
       "    .dataframe tbody tr th:only-of-type {\n",
       "        vertical-align: middle;\n",
       "    }\n",
       "\n",
       "    .dataframe tbody tr th {\n",
       "        vertical-align: top;\n",
       "    }\n",
       "\n",
       "    .dataframe thead th {\n",
       "        text-align: right;\n",
       "    }\n",
       "</style>\n",
       "<table border=\"1\" class=\"dataframe\">\n",
       "  <thead>\n",
       "    <tr style=\"text-align: right;\">\n",
       "      <th></th>\n",
       "      <th>Itemset</th>\n",
       "      <th>Support</th>\n",
       "    </tr>\n",
       "  </thead>\n",
       "  <tbody>\n",
       "    <tr>\n",
       "      <th>0</th>\n",
       "      <td>(bread)</td>\n",
       "      <td>0.83</td>\n",
       "    </tr>\n",
       "  </tbody>\n",
       "</table>\n",
       "</div>"
      ],
      "text/plain": [
       "   Itemset  Support\n",
       "0  (bread)     0.83"
      ]
     },
     "execution_count": 96,
     "metadata": {},
     "output_type": "execute_result"
    }
   ],
   "source": [
    "result_data = pd.DataFrame(frequent_itemsets,columns = ['Itemset','Support'])\n",
    "result_data"
   ]
  },
  {
   "cell_type": "code",
   "execution_count": null,
   "id": "686950f7",
   "metadata": {},
   "outputs": [],
   "source": []
  },
  {
   "cell_type": "markdown",
   "id": "068f6cea",
   "metadata": {},
   "source": [
    "# Orange Tool : - >Generate Same Frequent Patterns in Orange tools"
   ]
  },
  {
   "cell_type": "code",
   "execution_count": null,
   "id": "76aa891d",
   "metadata": {},
   "outputs": [],
   "source": []
  },
  {
   "cell_type": "markdown",
   "id": "744909d6",
   "metadata": {},
   "source": [
    "# Extra : - >  Define Apriori Function without itertools"
   ]
  },
  {
   "cell_type": "code",
   "execution_count": 104,
   "id": "db8ff032",
   "metadata": {},
   "outputs": [
    {
     "name": "stdout",
     "output_type": "stream",
     "text": [
      "items ('bread',) mask 5\n",
      "items ('butter',) mask 3\n",
      "items ('coffee',) mask 2\n",
      "items ('eggs',) mask 2\n",
      "items ('jam',) mask 2\n",
      "items ('milk',) mask 3\n",
      "items ('bread', 'butter') mask 3\n",
      "items ('bread', 'coffee') mask 1\n",
      "items ('bread', 'eggs') mask 1\n",
      "items ('bread', 'jam') mask 1\n",
      "items ('bread', 'milk') mask 3\n",
      "items ('butter', 'coffee') mask 0\n",
      "items ('butter', 'eggs') mask 0\n",
      "items ('butter', 'jam') mask 1\n",
      "items ('butter', 'milk') mask 2\n",
      "items ('coffee', 'eggs') mask 1\n",
      "items ('coffee', 'jam') mask 1\n",
      "items ('coffee', 'milk') mask 0\n",
      "items ('eggs', 'jam') mask 1\n",
      "items ('eggs', 'milk') mask 1\n",
      "items ('jam', 'milk') mask 0\n",
      "items ('bread', 'butter', 'coffee') mask 0\n",
      "items ('bread', 'butter', 'eggs') mask 0\n",
      "items ('bread', 'butter', 'jam') mask 1\n",
      "items ('bread', 'butter', 'milk') mask 2\n",
      "items ('bread', 'coffee', 'eggs') mask 0\n",
      "items ('bread', 'coffee', 'jam') mask 0\n",
      "items ('bread', 'coffee', 'milk') mask 0\n",
      "items ('bread', 'eggs', 'jam') mask 0\n",
      "items ('bread', 'eggs', 'milk') mask 1\n",
      "items ('bread', 'jam', 'milk') mask 0\n",
      "items ('butter', 'coffee', 'eggs') mask 0\n",
      "items ('butter', 'coffee', 'jam') mask 0\n",
      "items ('butter', 'coffee', 'milk') mask 0\n",
      "items ('butter', 'eggs', 'jam') mask 0\n",
      "items ('butter', 'eggs', 'milk') mask 0\n",
      "items ('butter', 'jam', 'milk') mask 0\n",
      "items ('coffee', 'eggs', 'jam') mask 1\n",
      "items ('coffee', 'eggs', 'milk') mask 0\n",
      "items ('coffee', 'jam', 'milk') mask 0\n",
      "items ('eggs', 'jam', 'milk') mask 0\n",
      "{'bread'}: 0.83\n"
     ]
    }
   ],
   "source": [
    "import pandas as pd\n",
    "\n",
    "# Recreate your dataset\n",
    "data = pd.DataFrame({\n",
    "    'bread':  [1, 1, 1, 1, 1, 0],\n",
    "    'butter': [1, 1, 0, 1, 0, 0],\n",
    "    'coffee': [0, 0, 0, 0, 1, 1],\n",
    "    'eggs':   [0, 0, 1, 0, 0, 1],\n",
    "    'jam':  [0, 1, 0, 0, 0, 1], \n",
    "    'milk': [1 ,0 ,1, 1, 0, 0]# guessing the last column is juice\n",
    "})\n",
    "\n",
    "min_support = 0.6  # for example, at least 30% of baskets\n",
    "\n",
    "frequent_itemsets = find_frequent_itemsets(data, min_support)\n",
    "\n",
    "for itemset, support in frequent_itemsets:\n",
    "    print(f\"{set(itemset)}: {support}\")\n"
   ]
  },
  {
   "cell_type": "code",
   "execution_count": null,
   "id": "d71a9b00",
   "metadata": {},
   "outputs": [],
   "source": []
  }
 ],
 "metadata": {
  "kernelspec": {
   "display_name": "Python 3 (ipykernel)",
   "language": "python",
   "name": "python3"
  },
  "language_info": {
   "codemirror_mode": {
    "name": "ipython",
    "version": 3
   },
   "file_extension": ".py",
   "mimetype": "text/x-python",
   "name": "python",
   "nbconvert_exporter": "python",
   "pygments_lexer": "ipython3",
   "version": "3.12.7"
  }
 },
 "nbformat": 4,
 "nbformat_minor": 5
}
